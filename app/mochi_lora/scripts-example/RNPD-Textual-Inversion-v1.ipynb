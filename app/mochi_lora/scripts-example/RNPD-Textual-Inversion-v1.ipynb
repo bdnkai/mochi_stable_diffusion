{
 "cells": [
  {
   "cell_type": "markdown",
   "id": "4533d548-e2ca-4824-b94c-e690ad1742b3",
   "metadata": {},
   "source": [
    "## Fast Textual inversion v1.5 by TheLastBen, https://github.com/TheLastBen/fast-stable-diffusion, if you encounter any issues, feel free to discuss them."
   ]
  },
  {
   "cell_type": "markdown",
   "id": "7e0a43a0-7472-4a04-a817-a7d7bf001ad8",
   "metadata": {},
   "source": [
    "# Dependencies"
   ]
  },
  {
   "cell_type": "code",
   "execution_count": null,
   "id": "9a00b695-22e4-4f3a-904b-4268f948dd4d",
   "metadata": {
    "tags": []
   },
   "outputs": [],
   "source": [
    "# Install the dependencies\n",
    "\n",
    "force_reinstall= False\n",
    "\n",
    "# Set to true only if you want to install the dependencies again.\n",
    "\n",
    "#--------------------\n",
    "with open('/dev/null', 'w') as devnull:import requests, os, time, importlib;open('/workspace/mainrunpodtextinv1.py', 'wb').write(requests.get('https://huggingface.co/datasets/TheLastBen/RNPD/raw/main/Scripts/mainrunpodtextinv1.py').content);os.chdir('/workspace');time.sleep(2);import mainrunpodtextinv1;importlib.reload(mainrunpodtextinv1);from mainrunpodtextinv1 import *;restored=False;Deps(force_reinstall)"
   ]
  },
  {
   "cell_type": "markdown",
   "id": "1aef6c77-c40e-47e5-8510-fe7255a909d3",
   "metadata": {},
   "source": [
    "# Download the model"
   ]
  },
  {
   "cell_type": "code",
   "execution_count": null,
   "id": "6b5521db-8a29-4b89-9752-b4b43a1e19ad",
   "metadata": {
    "tags": []
   },
   "outputs": [],
   "source": [
    "#Leave everything EMPTY to use the original model\n",
    "\n",
    "Path_to_HuggingFace= \"\"\n",
    "\n",
    "# Load and finetune a model from Hugging Face, use the format \"profile/model\" like : runwayml/stable-diffusion-v1-5\n",
    "\n",
    "\n",
    "Model_Path = \"\"\n",
    "\n",
    "# Load a model from the storage.\n",
    "\n",
    "\n",
    "Model_Link = \"\"\n",
    "\n",
    "# A direct link, huggingface link or shared from gdrive.\n",
    "\n",
    "\n",
    "#----------------\n",
    "MODEL_NAME=dls(Path_to_HuggingFace, Model_Path, Model_Link)"
   ]
  },
  {
   "cell_type": "markdown",
   "id": "c103fb5c-ec65-4773-a59b-3ad7e75caa43",
   "metadata": {},
   "source": [
    "# Create/Load a Session"
   ]
  },
  {
   "cell_type": "code",
   "execution_count": null,
   "id": "d1953470-5d6a-4fc2-93db-0327a3c8e0a4",
   "metadata": {
    "tags": []
   },
   "outputs": [],
   "source": [
    "Session_Name = \"test-session\"\n",
    "\n",
    "# Enter the session name, it if it exists, it will load it, otherwise it'll create an new session.\n",
    "\n",
    "\n",
    "#-----------------\n",
    "[PT, WORKSPACE, Session_Name, INSTANCE_NAME, OUTPUT_DIR, SESSION_DIR, INSTANCE_DIR, CAPTIONS_DIR, MDLPTH, MODEL_NAME, resume]=sess(Session_Name, \"\", MODEL_NAME if 'MODEL_NAME' in locals() else \"\")"
   ]
  },
  {
   "cell_type": "markdown",
   "id": "62597da8-f957-4b48-a2c4-05471d1c46a5",
   "metadata": {},
   "source": [
    "# Instance Images\n",
    "The most important step is to rename the instance pictures to one unique unknown identifier"
   ]
  },
  {
   "cell_type": "code",
   "execution_count": null,
   "id": "96f310cb-6e42-4d6f-87a7-5bb869d48c8e",
   "metadata": {
    "tags": []
   },
   "outputs": [],
   "source": [
    "Remove_existing_instance_images= True\n",
    "\n",
    "# Set to False to keep the existing instance images if any.\n",
    "\n",
    "\n",
    "IMAGES_FOLDER_OPTIONAL= \"\"\n",
    "\n",
    "# If you prefer to specify directly the folder of the pictures instead of uploading, this will add the pictures to the existing (if any) instance images. Leave EMPTY to upload.\n",
    "\n",
    "\n",
    "Smart_crop_images= True\n",
    "\n",
    "# Automatically crop your input images.\n",
    "\n",
    "\n",
    "Crop_size = 512\n",
    "\n",
    "# Choices: \"512\", \"576\", \"640\", \"704\", \"768\", \"832\", \"896\", \"960\", \"1024\"\n",
    "\n",
    "# Check out this example for naming : https://i.imgur.com/d2lD3rz.jpeg\n",
    "\n",
    "\n",
    "#-----------------\n",
    "uplder(Remove_existing_instance_images, Smart_crop_images, Crop_size, IMAGES_FOLDER_OPTIONAL, INSTANCE_DIR, CAPTIONS_DIR)"
   ]
  },
  {
   "cell_type": "markdown",
   "id": "4ebc12b9-a6cb-4ce0-a062-6059511b0423",
   "metadata": {},
   "source": [
    "# Manual Captioning"
   ]
  },
  {
   "cell_type": "code",
   "execution_count": null,
   "id": "1b844caf-55bf-4fe4-8c9c-95b60604854d",
   "metadata": {
    "tags": []
   },
   "outputs": [],
   "source": [
    "# Open a tool to manually caption the instance images.\n",
    "\n",
    "#-----------------\n",
    "caption(CAPTIONS_DIR, INSTANCE_DIR)"
   ]
  },
  {
   "cell_type": "markdown",
   "id": "9bc7806c-fa55-4f32-8eb9-76bd4b69f6f2",
   "metadata": {},
   "source": [
    "# Textual inversion"
   ]
  },
  {
   "cell_type": "code",
   "execution_count": null,
   "id": "ab759eb7-8ba5-4803-95f3-9f8b58ee317d",
   "metadata": {
    "tags": []
   },
   "outputs": [],
   "source": [
    "Training_Epochs= 100\n",
    "\n",
    "Learning_Rate= \"3e-6\"\n",
    "\n",
    "# 100-200 epochs (steps/image) is enough for a small dataset, keep this number small to avoid overfitting, keep the learning rate between 8e-7(low) and 4e-6(high)\n",
    "\n",
    "Batch_size=1\n",
    "\n",
    "# Increase if the dataset is large, keep it 1 for a small dataset\n",
    "\n",
    "\n",
    "External_Captions= False\n",
    "\n",
    "# Get the captions from a text file for each instance image\n",
    "\n",
    "\n",
    "Offset_Noise= True\n",
    "\n",
    "# It should help with the overall quality, great for styles, not so much with faces\n",
    "\n",
    "Offset_Noise_amount= 0.1\n",
    "\n",
    "# if used, keep it between 0.01 and 0.2, default is 0.1\n",
    "\n",
    "\n",
    "Resolution= 512\n",
    "\n",
    "# Choices : \"512\", \"576\", \"640\", \"704\", \"768\", \"832\", \"896\", \"960\", \"1024\"\n",
    "# Higher resolution = Higher quality, make sure the instance images are cropped to this selected size (or larger)\n",
    "\n",
    "#---------------------------------------------------------------\n",
    "\n",
    "\n",
    "train(Training_Epochs, Learning_Rate, Batch_size, Offset_Noise, Resolution, MODEL_NAME, SESSION_DIR, INSTANCE_DIR, CAPTIONS_DIR, External_Captions, INSTANCE_NAME, Session_Name, OUTPUT_DIR, PT, Offset_Noise_amount)"
   ]
  },
  {
   "cell_type": "markdown",
   "id": "2f236f25-c256-44c0-8ef9-09d27a93bb92",
   "metadata": {},
   "source": [
    "# Test the Trained Model"
   ]
  },
  {
   "cell_type": "code",
   "execution_count": null,
   "id": "6cba55c7-1d0e-4a68-bd91-3c46625ccb31",
   "metadata": {
    "tags": []
   },
   "outputs": [],
   "source": [
    "Custom_Path = \"\"\n",
    "\n",
    "# Input the full path to a desired model.\n",
    "\n",
    "\n",
    "User = \"\"\n",
    "\n",
    "Password= \"\"\n",
    "\n",
    "# Add credentials to your Gradio interface (optional).\n",
    "\n",
    "\n",
    "Huggingface_token_optional= \"\"\n",
    "\n",
    "# Restore your backed-up SD folder by entering your huggingface token, leave it empty to start fresh or continue with the existing sd folder (if any).\n",
    "\n",
    "#-----------------\n",
    "configf, restored=test(Custom_Path, Session_Name, User, Password, Huggingface_token_optional, restored) if 'Session_Name' in locals() else test(Custom_Path, \"\", User, Password, Huggingface_token_optional, restored);import gradio;gradio.close_all()\n",
    "!python /workspace/sd/stable-diffusion-webui/webui.py $configf"
   ]
  },
  {
   "cell_type": "markdown",
   "id": "92938a3a-0c6a-478b-b8e6-c93a190d4fd8",
   "metadata": {},
   "source": [
    "# Free up space"
   ]
  },
  {
   "cell_type": "code",
   "execution_count": null,
   "id": "22c8571e-324f-4513-a846-44486862176f",
   "metadata": {},
   "outputs": [],
   "source": [
    "# Display a list of sessions from which you can remove any session you don't need anymore\n",
    "\n",
    "#-------------------------\n",
    "clean()"
   ]
  }
 ],
 "metadata": {
  "kernelspec": {
   "display_name": "Python 3 (ipykernel)",
   "language": "python",
   "name": "python3"
  },
  "language_info": {
   "codemirror_mode": {
    "name": "ipython",
    "version": 3
   },
   "file_extension": ".py",
   "mimetype": "text/x-python",
   "name": "python",
   "nbconvert_exporter": "python",
   "pygments_lexer": "ipython3",
   "version": "3.10.10"
  }
 },
 "nbformat": 4,
 "nbformat_minor": 5
}